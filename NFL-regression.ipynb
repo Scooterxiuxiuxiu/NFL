{
 "cells": [
  {
   "cell_type": "code",
   "execution_count": 2,
   "metadata": {},
   "outputs": [],
   "source": [
    "import pandas as pd\n",
    "import numpy as np"
   ]
  },
  {
   "cell_type": "code",
   "execution_count": 3,
   "metadata": {},
   "outputs": [
    {
     "data": {
      "text/html": [
       "<div>\n",
       "<style scoped>\n",
       "    .dataframe tbody tr th:only-of-type {\n",
       "        vertical-align: middle;\n",
       "    }\n",
       "\n",
       "    .dataframe tbody tr th {\n",
       "        vertical-align: top;\n",
       "    }\n",
       "\n",
       "    .dataframe thead th {\n",
       "        text-align: right;\n",
       "    }\n",
       "</style>\n",
       "<table border=\"1\" class=\"dataframe\">\n",
       "  <thead>\n",
       "    <tr style=\"text-align: right;\">\n",
       "      <th></th>\n",
       "      <th>date</th>\n",
       "      <th>season</th>\n",
       "      <th>neutral</th>\n",
       "      <th>playoff</th>\n",
       "      <th>team1</th>\n",
       "      <th>team2</th>\n",
       "      <th>elo1</th>\n",
       "      <th>elo2</th>\n",
       "      <th>elo_prob1</th>\n",
       "      <th>score1</th>\n",
       "      <th>score2</th>\n",
       "      <th>result1</th>\n",
       "    </tr>\n",
       "  </thead>\n",
       "  <tbody>\n",
       "    <tr>\n",
       "      <td>0</td>\n",
       "      <td>1920-09-26</td>\n",
       "      <td>1920</td>\n",
       "      <td>0</td>\n",
       "      <td>0</td>\n",
       "      <td>RII</td>\n",
       "      <td>STP</td>\n",
       "      <td>1503.947</td>\n",
       "      <td>1300.000</td>\n",
       "      <td>0.824651</td>\n",
       "      <td>48</td>\n",
       "      <td>0</td>\n",
       "      <td>1.0</td>\n",
       "    </tr>\n",
       "    <tr>\n",
       "      <td>1</td>\n",
       "      <td>1920-10-03</td>\n",
       "      <td>1920</td>\n",
       "      <td>0</td>\n",
       "      <td>0</td>\n",
       "      <td>AKR</td>\n",
       "      <td>WHE</td>\n",
       "      <td>1503.420</td>\n",
       "      <td>1300.000</td>\n",
       "      <td>0.824212</td>\n",
       "      <td>43</td>\n",
       "      <td>0</td>\n",
       "      <td>1.0</td>\n",
       "    </tr>\n",
       "    <tr>\n",
       "      <td>2</td>\n",
       "      <td>1920-10-03</td>\n",
       "      <td>1920</td>\n",
       "      <td>0</td>\n",
       "      <td>0</td>\n",
       "      <td>RCH</td>\n",
       "      <td>ABU</td>\n",
       "      <td>1503.420</td>\n",
       "      <td>1300.000</td>\n",
       "      <td>0.824212</td>\n",
       "      <td>10</td>\n",
       "      <td>0</td>\n",
       "      <td>1.0</td>\n",
       "    </tr>\n",
       "    <tr>\n",
       "      <td>3</td>\n",
       "      <td>1920-10-03</td>\n",
       "      <td>1920</td>\n",
       "      <td>0</td>\n",
       "      <td>0</td>\n",
       "      <td>DAY</td>\n",
       "      <td>COL</td>\n",
       "      <td>1493.002</td>\n",
       "      <td>1504.908</td>\n",
       "      <td>0.575819</td>\n",
       "      <td>14</td>\n",
       "      <td>0</td>\n",
       "      <td>1.0</td>\n",
       "    </tr>\n",
       "    <tr>\n",
       "      <td>4</td>\n",
       "      <td>1920-10-03</td>\n",
       "      <td>1920</td>\n",
       "      <td>0</td>\n",
       "      <td>0</td>\n",
       "      <td>RII</td>\n",
       "      <td>MUN</td>\n",
       "      <td>1516.108</td>\n",
       "      <td>1478.004</td>\n",
       "      <td>0.644171</td>\n",
       "      <td>45</td>\n",
       "      <td>0</td>\n",
       "      <td>1.0</td>\n",
       "    </tr>\n",
       "  </tbody>\n",
       "</table>\n",
       "</div>"
      ],
      "text/plain": [
       "         date  season  neutral  playoff team1 team2      elo1      elo2  \\\n",
       "0  1920-09-26    1920        0        0   RII   STP  1503.947  1300.000   \n",
       "1  1920-10-03    1920        0        0   AKR   WHE  1503.420  1300.000   \n",
       "2  1920-10-03    1920        0        0   RCH   ABU  1503.420  1300.000   \n",
       "3  1920-10-03    1920        0        0   DAY   COL  1493.002  1504.908   \n",
       "4  1920-10-03    1920        0        0   RII   MUN  1516.108  1478.004   \n",
       "\n",
       "   elo_prob1  score1  score2  result1  \n",
       "0   0.824651      48       0      1.0  \n",
       "1   0.824212      43       0      1.0  \n",
       "2   0.824212      10       0      1.0  \n",
       "3   0.575819      14       0      1.0  \n",
       "4   0.644171      45       0      1.0  "
      ]
     },
     "execution_count": 3,
     "metadata": {},
     "output_type": "execute_result"
    }
   ],
   "source": [
    "data=pd.read_csv('nfl_games.csv')\n",
    "data.head()"
   ]
  },
  {
   "cell_type": "code",
   "execution_count": 10,
   "metadata": {},
   "outputs": [
    {
     "data": {
      "text/html": [
       "<div>\n",
       "<style scoped>\n",
       "    .dataframe tbody tr th:only-of-type {\n",
       "        vertical-align: middle;\n",
       "    }\n",
       "\n",
       "    .dataframe tbody tr th {\n",
       "        vertical-align: top;\n",
       "    }\n",
       "\n",
       "    .dataframe thead th {\n",
       "        text-align: right;\n",
       "    }\n",
       "</style>\n",
       "<table border=\"1\" class=\"dataframe\">\n",
       "  <thead>\n",
       "    <tr style=\"text-align: right;\">\n",
       "      <th></th>\n",
       "      <th>date</th>\n",
       "      <th>season</th>\n",
       "      <th>neutral</th>\n",
       "      <th>playoff</th>\n",
       "      <th>team1</th>\n",
       "      <th>team2</th>\n",
       "      <th>elo1</th>\n",
       "      <th>elo2</th>\n",
       "      <th>elo_prob1</th>\n",
       "      <th>score1</th>\n",
       "      <th>score2</th>\n",
       "      <th>result1</th>\n",
       "    </tr>\n",
       "  </thead>\n",
       "  <tbody>\n",
       "    <tr>\n",
       "      <td>6911</td>\n",
       "      <td>1981-11-01</td>\n",
       "      <td>1981</td>\n",
       "      <td>0</td>\n",
       "      <td>0</td>\n",
       "      <td>WSH</td>\n",
       "      <td>ARI</td>\n",
       "      <td>1424.035000</td>\n",
       "      <td>1420.152000</td>\n",
       "      <td>0.597852</td>\n",
       "      <td>42</td>\n",
       "      <td>21</td>\n",
       "      <td>1.0</td>\n",
       "    </tr>\n",
       "    <tr>\n",
       "      <td>16045</td>\n",
       "      <td>2018-09-23</td>\n",
       "      <td>2018</td>\n",
       "      <td>0</td>\n",
       "      <td>0</td>\n",
       "      <td>MIA</td>\n",
       "      <td>OAK</td>\n",
       "      <td>1497.404638</td>\n",
       "      <td>1429.604278</td>\n",
       "      <td>0.682321</td>\n",
       "      <td>28</td>\n",
       "      <td>20</td>\n",
       "      <td>1.0</td>\n",
       "    </tr>\n",
       "    <tr>\n",
       "      <td>15181</td>\n",
       "      <td>2014-12-28</td>\n",
       "      <td>2014</td>\n",
       "      <td>0</td>\n",
       "      <td>0</td>\n",
       "      <td>TEN</td>\n",
       "      <td>IND</td>\n",
       "      <td>1266.874000</td>\n",
       "      <td>1573.049000</td>\n",
       "      <td>0.199677</td>\n",
       "      <td>10</td>\n",
       "      <td>27</td>\n",
       "      <td>0.0</td>\n",
       "    </tr>\n",
       "    <tr>\n",
       "      <td>9094</td>\n",
       "      <td>1991-10-13</td>\n",
       "      <td>1991</td>\n",
       "      <td>0</td>\n",
       "      <td>0</td>\n",
       "      <td>SEA</td>\n",
       "      <td>OAK</td>\n",
       "      <td>1534.094000</td>\n",
       "      <td>1527.793000</td>\n",
       "      <td>0.601194</td>\n",
       "      <td>20</td>\n",
       "      <td>23</td>\n",
       "      <td>0.0</td>\n",
       "    </tr>\n",
       "    <tr>\n",
       "      <td>2519</td>\n",
       "      <td>1954-11-28</td>\n",
       "      <td>1954</td>\n",
       "      <td>0</td>\n",
       "      <td>0</td>\n",
       "      <td>PHI</td>\n",
       "      <td>WSH</td>\n",
       "      <td>1527.185000</td>\n",
       "      <td>1364.094000</td>\n",
       "      <td>0.788014</td>\n",
       "      <td>41</td>\n",
       "      <td>33</td>\n",
       "      <td>1.0</td>\n",
       "    </tr>\n",
       "    <tr>\n",
       "      <td>2930</td>\n",
       "      <td>1960-10-08</td>\n",
       "      <td>1960</td>\n",
       "      <td>0</td>\n",
       "      <td>0</td>\n",
       "      <td>LAC</td>\n",
       "      <td>NE</td>\n",
       "      <td>1304.018000</td>\n",
       "      <td>1268.191000</td>\n",
       "      <td>0.641161</td>\n",
       "      <td>0</td>\n",
       "      <td>35</td>\n",
       "      <td>0.0</td>\n",
       "    </tr>\n",
       "    <tr>\n",
       "      <td>15847</td>\n",
       "      <td>2017-10-29</td>\n",
       "      <td>2017</td>\n",
       "      <td>1</td>\n",
       "      <td>0</td>\n",
       "      <td>CLE</td>\n",
       "      <td>MIN</td>\n",
       "      <td>1263.406731</td>\n",
       "      <td>1556.146634</td>\n",
       "      <td>0.156415</td>\n",
       "      <td>16</td>\n",
       "      <td>33</td>\n",
       "      <td>0.0</td>\n",
       "    </tr>\n",
       "    <tr>\n",
       "      <td>4825</td>\n",
       "      <td>1971-10-31</td>\n",
       "      <td>1971</td>\n",
       "      <td>0</td>\n",
       "      <td>0</td>\n",
       "      <td>PHI</td>\n",
       "      <td>DEN</td>\n",
       "      <td>1364.278000</td>\n",
       "      <td>1460.814000</td>\n",
       "      <td>0.454740</td>\n",
       "      <td>17</td>\n",
       "      <td>16</td>\n",
       "      <td>1.0</td>\n",
       "    </tr>\n",
       "    <tr>\n",
       "      <td>4941</td>\n",
       "      <td>1972-09-24</td>\n",
       "      <td>1972</td>\n",
       "      <td>0</td>\n",
       "      <td>0</td>\n",
       "      <td>BUF</td>\n",
       "      <td>SF</td>\n",
       "      <td>1309.207000</td>\n",
       "      <td>1585.466000</td>\n",
       "      <td>0.228623</td>\n",
       "      <td>27</td>\n",
       "      <td>20</td>\n",
       "      <td>1.0</td>\n",
       "    </tr>\n",
       "    <tr>\n",
       "      <td>433</td>\n",
       "      <td>1925-10-18</td>\n",
       "      <td>1925</td>\n",
       "      <td>0</td>\n",
       "      <td>0</td>\n",
       "      <td>ARI</td>\n",
       "      <td>KCB</td>\n",
       "      <td>1522.092000</td>\n",
       "      <td>1375.636000</td>\n",
       "      <td>0.771577</td>\n",
       "      <td>20</td>\n",
       "      <td>7</td>\n",
       "      <td>1.0</td>\n",
       "    </tr>\n",
       "    <tr>\n",
       "      <td>15652</td>\n",
       "      <td>2016-12-04</td>\n",
       "      <td>2016</td>\n",
       "      <td>0</td>\n",
       "      <td>0</td>\n",
       "      <td>CHI</td>\n",
       "      <td>SF</td>\n",
       "      <td>1352.005264</td>\n",
       "      <td>1312.646448</td>\n",
       "      <td>0.645825</td>\n",
       "      <td>26</td>\n",
       "      <td>6</td>\n",
       "      <td>1.0</td>\n",
       "    </tr>\n",
       "    <tr>\n",
       "      <td>7855</td>\n",
       "      <td>1986-01-04</td>\n",
       "      <td>1985</td>\n",
       "      <td>0</td>\n",
       "      <td>1</td>\n",
       "      <td>MIA</td>\n",
       "      <td>CLE</td>\n",
       "      <td>1682.723000</td>\n",
       "      <td>1488.631000</td>\n",
       "      <td>0.816296</td>\n",
       "      <td>24</td>\n",
       "      <td>21</td>\n",
       "      <td>1.0</td>\n",
       "    </tr>\n",
       "    <tr>\n",
       "      <td>15346</td>\n",
       "      <td>2015-11-15</td>\n",
       "      <td>2015</td>\n",
       "      <td>0</td>\n",
       "      <td>0</td>\n",
       "      <td>WSH</td>\n",
       "      <td>NO</td>\n",
       "      <td>1372.880220</td>\n",
       "      <td>1466.398397</td>\n",
       "      <td>0.459051</td>\n",
       "      <td>47</td>\n",
       "      <td>14</td>\n",
       "      <td>1.0</td>\n",
       "    </tr>\n",
       "    <tr>\n",
       "      <td>4126</td>\n",
       "      <td>1967-11-26</td>\n",
       "      <td>1967</td>\n",
       "      <td>0</td>\n",
       "      <td>0</td>\n",
       "      <td>SF</td>\n",
       "      <td>IND</td>\n",
       "      <td>1457.402000</td>\n",
       "      <td>1692.336000</td>\n",
       "      <td>0.273245</td>\n",
       "      <td>9</td>\n",
       "      <td>26</td>\n",
       "      <td>0.0</td>\n",
       "    </tr>\n",
       "    <tr>\n",
       "      <td>14465</td>\n",
       "      <td>2012-09-30</td>\n",
       "      <td>2012</td>\n",
       "      <td>0</td>\n",
       "      <td>0</td>\n",
       "      <td>HOU</td>\n",
       "      <td>TEN</td>\n",
       "      <td>1604.427000</td>\n",
       "      <td>1468.508000</td>\n",
       "      <td>0.760711</td>\n",
       "      <td>38</td>\n",
       "      <td>14</td>\n",
       "      <td>1.0</td>\n",
       "    </tr>\n",
       "    <tr>\n",
       "      <td>14410</td>\n",
       "      <td>2012-09-09</td>\n",
       "      <td>2012</td>\n",
       "      <td>0</td>\n",
       "      <td>0</td>\n",
       "      <td>KC</td>\n",
       "      <td>ATL</td>\n",
       "      <td>1479.946000</td>\n",
       "      <td>1545.706000</td>\n",
       "      <td>0.498906</td>\n",
       "      <td>24</td>\n",
       "      <td>40</td>\n",
       "      <td>0.0</td>\n",
       "    </tr>\n",
       "    <tr>\n",
       "      <td>1034</td>\n",
       "      <td>1933-11-12</td>\n",
       "      <td>1933</td>\n",
       "      <td>0</td>\n",
       "      <td>0</td>\n",
       "      <td>NYG</td>\n",
       "      <td>WSH</td>\n",
       "      <td>1556.269000</td>\n",
       "      <td>1472.302000</td>\n",
       "      <td>0.702143</td>\n",
       "      <td>7</td>\n",
       "      <td>0</td>\n",
       "      <td>1.0</td>\n",
       "    </tr>\n",
       "    <tr>\n",
       "      <td>1788</td>\n",
       "      <td>1946-11-18</td>\n",
       "      <td>1946</td>\n",
       "      <td>0</td>\n",
       "      <td>0</td>\n",
       "      <td>MSA</td>\n",
       "      <td>BBA</td>\n",
       "      <td>1147.317000</td>\n",
       "      <td>1248.007000</td>\n",
       "      <td>0.448818</td>\n",
       "      <td>21</td>\n",
       "      <td>14</td>\n",
       "      <td>1.0</td>\n",
       "    </tr>\n",
       "    <tr>\n",
       "      <td>10388</td>\n",
       "      <td>1996-12-01</td>\n",
       "      <td>1996</td>\n",
       "      <td>0</td>\n",
       "      <td>0</td>\n",
       "      <td>NYJ</td>\n",
       "      <td>TEN</td>\n",
       "      <td>1278.787000</td>\n",
       "      <td>1496.012000</td>\n",
       "      <td>0.293950</td>\n",
       "      <td>10</td>\n",
       "      <td>35</td>\n",
       "      <td>0.0</td>\n",
       "    </tr>\n",
       "    <tr>\n",
       "      <td>3381</td>\n",
       "      <td>1963-09-29</td>\n",
       "      <td>1963</td>\n",
       "      <td>0</td>\n",
       "      <td>0</td>\n",
       "      <td>PHI</td>\n",
       "      <td>NYG</td>\n",
       "      <td>1429.427000</td>\n",
       "      <td>1592.549000</td>\n",
       "      <td>0.362429</td>\n",
       "      <td>14</td>\n",
       "      <td>37</td>\n",
       "      <td>0.0</td>\n",
       "    </tr>\n",
       "  </tbody>\n",
       "</table>\n",
       "</div>"
      ],
      "text/plain": [
       "             date  season  neutral  playoff team1 team2         elo1  \\\n",
       "6911   1981-11-01    1981        0        0   WSH   ARI  1424.035000   \n",
       "16045  2018-09-23    2018        0        0   MIA   OAK  1497.404638   \n",
       "15181  2014-12-28    2014        0        0   TEN   IND  1266.874000   \n",
       "9094   1991-10-13    1991        0        0   SEA   OAK  1534.094000   \n",
       "2519   1954-11-28    1954        0        0   PHI   WSH  1527.185000   \n",
       "2930   1960-10-08    1960        0        0   LAC    NE  1304.018000   \n",
       "15847  2017-10-29    2017        1        0   CLE   MIN  1263.406731   \n",
       "4825   1971-10-31    1971        0        0   PHI   DEN  1364.278000   \n",
       "4941   1972-09-24    1972        0        0   BUF    SF  1309.207000   \n",
       "433    1925-10-18    1925        0        0   ARI   KCB  1522.092000   \n",
       "15652  2016-12-04    2016        0        0   CHI    SF  1352.005264   \n",
       "7855   1986-01-04    1985        0        1   MIA   CLE  1682.723000   \n",
       "15346  2015-11-15    2015        0        0   WSH    NO  1372.880220   \n",
       "4126   1967-11-26    1967        0        0    SF   IND  1457.402000   \n",
       "14465  2012-09-30    2012        0        0   HOU   TEN  1604.427000   \n",
       "14410  2012-09-09    2012        0        0    KC   ATL  1479.946000   \n",
       "1034   1933-11-12    1933        0        0   NYG   WSH  1556.269000   \n",
       "1788   1946-11-18    1946        0        0   MSA   BBA  1147.317000   \n",
       "10388  1996-12-01    1996        0        0   NYJ   TEN  1278.787000   \n",
       "3381   1963-09-29    1963        0        0   PHI   NYG  1429.427000   \n",
       "\n",
       "              elo2  elo_prob1  score1  score2  result1  \n",
       "6911   1420.152000   0.597852      42      21      1.0  \n",
       "16045  1429.604278   0.682321      28      20      1.0  \n",
       "15181  1573.049000   0.199677      10      27      0.0  \n",
       "9094   1527.793000   0.601194      20      23      0.0  \n",
       "2519   1364.094000   0.788014      41      33      1.0  \n",
       "2930   1268.191000   0.641161       0      35      0.0  \n",
       "15847  1556.146634   0.156415      16      33      0.0  \n",
       "4825   1460.814000   0.454740      17      16      1.0  \n",
       "4941   1585.466000   0.228623      27      20      1.0  \n",
       "433    1375.636000   0.771577      20       7      1.0  \n",
       "15652  1312.646448   0.645825      26       6      1.0  \n",
       "7855   1488.631000   0.816296      24      21      1.0  \n",
       "15346  1466.398397   0.459051      47      14      1.0  \n",
       "4126   1692.336000   0.273245       9      26      0.0  \n",
       "14465  1468.508000   0.760711      38      14      1.0  \n",
       "14410  1545.706000   0.498906      24      40      0.0  \n",
       "1034   1472.302000   0.702143       7       0      1.0  \n",
       "1788   1248.007000   0.448818      21      14      1.0  \n",
       "10388  1496.012000   0.293950      10      35      0.0  \n",
       "3381   1592.549000   0.362429      14      37      0.0  "
      ]
     },
     "execution_count": 10,
     "metadata": {},
     "output_type": "execute_result"
    }
   ],
   "source": [
    "data.sample(n=20,random_state=123,axis=0)"
   ]
  },
  {
   "cell_type": "code",
   "execution_count": 11,
   "metadata": {},
   "outputs": [
    {
     "data": {
      "text/html": [
       "<div>\n",
       "<style scoped>\n",
       "    .dataframe tbody tr th:only-of-type {\n",
       "        vertical-align: middle;\n",
       "    }\n",
       "\n",
       "    .dataframe tbody tr th {\n",
       "        vertical-align: top;\n",
       "    }\n",
       "\n",
       "    .dataframe thead th {\n",
       "        text-align: right;\n",
       "    }\n",
       "</style>\n",
       "<table border=\"1\" class=\"dataframe\">\n",
       "  <thead>\n",
       "    <tr style=\"text-align: right;\">\n",
       "      <th></th>\n",
       "      <th>season</th>\n",
       "      <th>neutral</th>\n",
       "      <th>playoff</th>\n",
       "      <th>elo1</th>\n",
       "      <th>elo2</th>\n",
       "      <th>elo_prob1</th>\n",
       "      <th>score1</th>\n",
       "      <th>score2</th>\n",
       "      <th>result1</th>\n",
       "    </tr>\n",
       "  </thead>\n",
       "  <tbody>\n",
       "    <tr>\n",
       "      <td>count</td>\n",
       "      <td>16274.000000</td>\n",
       "      <td>16274.000000</td>\n",
       "      <td>16274.000000</td>\n",
       "      <td>16274.000000</td>\n",
       "      <td>16274.000000</td>\n",
       "      <td>16274.000000</td>\n",
       "      <td>16274.000000</td>\n",
       "      <td>16274.000000</td>\n",
       "      <td>16274.000000</td>\n",
       "    </tr>\n",
       "    <tr>\n",
       "      <td>mean</td>\n",
       "      <td>1982.437569</td>\n",
       "      <td>0.005223</td>\n",
       "      <td>0.034779</td>\n",
       "      <td>1502.458394</td>\n",
       "      <td>1498.918375</td>\n",
       "      <td>0.584829</td>\n",
       "      <td>21.544058</td>\n",
       "      <td>18.578161</td>\n",
       "      <td>0.580681</td>\n",
       "    </tr>\n",
       "    <tr>\n",
       "      <td>std</td>\n",
       "      <td>25.448049</td>\n",
       "      <td>0.072084</td>\n",
       "      <td>0.183226</td>\n",
       "      <td>105.015371</td>\n",
       "      <td>104.541271</td>\n",
       "      <td>0.175302</td>\n",
       "      <td>11.289422</td>\n",
       "      <td>10.794566</td>\n",
       "      <td>0.488551</td>\n",
       "    </tr>\n",
       "    <tr>\n",
       "      <td>min</td>\n",
       "      <td>1920.000000</td>\n",
       "      <td>0.000000</td>\n",
       "      <td>0.000000</td>\n",
       "      <td>1119.595000</td>\n",
       "      <td>1156.551000</td>\n",
       "      <td>0.070953</td>\n",
       "      <td>0.000000</td>\n",
       "      <td>0.000000</td>\n",
       "      <td>0.000000</td>\n",
       "    </tr>\n",
       "    <tr>\n",
       "      <td>25%</td>\n",
       "      <td>1967.000000</td>\n",
       "      <td>0.000000</td>\n",
       "      <td>0.000000</td>\n",
       "      <td>1429.242750</td>\n",
       "      <td>1425.864750</td>\n",
       "      <td>0.461231</td>\n",
       "      <td>14.000000</td>\n",
       "      <td>10.000000</td>\n",
       "      <td>0.000000</td>\n",
       "    </tr>\n",
       "    <tr>\n",
       "      <td>50%</td>\n",
       "      <td>1987.000000</td>\n",
       "      <td>0.000000</td>\n",
       "      <td>0.000000</td>\n",
       "      <td>1504.015000</td>\n",
       "      <td>1500.185000</td>\n",
       "      <td>0.596354</td>\n",
       "      <td>21.000000</td>\n",
       "      <td>17.000000</td>\n",
       "      <td>1.000000</td>\n",
       "    </tr>\n",
       "    <tr>\n",
       "      <td>75%</td>\n",
       "      <td>2003.000000</td>\n",
       "      <td>0.000000</td>\n",
       "      <td>0.000000</td>\n",
       "      <td>1578.071500</td>\n",
       "      <td>1575.753000</td>\n",
       "      <td>0.719930</td>\n",
       "      <td>28.000000</td>\n",
       "      <td>26.000000</td>\n",
       "      <td>1.000000</td>\n",
       "    </tr>\n",
       "    <tr>\n",
       "      <td>max</td>\n",
       "      <td>2018.000000</td>\n",
       "      <td>1.000000</td>\n",
       "      <td>1.000000</td>\n",
       "      <td>1839.663000</td>\n",
       "      <td>1849.484000</td>\n",
       "      <td>0.970516</td>\n",
       "      <td>72.000000</td>\n",
       "      <td>73.000000</td>\n",
       "      <td>1.000000</td>\n",
       "    </tr>\n",
       "  </tbody>\n",
       "</table>\n",
       "</div>"
      ],
      "text/plain": [
       "             season       neutral       playoff          elo1          elo2  \\\n",
       "count  16274.000000  16274.000000  16274.000000  16274.000000  16274.000000   \n",
       "mean    1982.437569      0.005223      0.034779   1502.458394   1498.918375   \n",
       "std       25.448049      0.072084      0.183226    105.015371    104.541271   \n",
       "min     1920.000000      0.000000      0.000000   1119.595000   1156.551000   \n",
       "25%     1967.000000      0.000000      0.000000   1429.242750   1425.864750   \n",
       "50%     1987.000000      0.000000      0.000000   1504.015000   1500.185000   \n",
       "75%     2003.000000      0.000000      0.000000   1578.071500   1575.753000   \n",
       "max     2018.000000      1.000000      1.000000   1839.663000   1849.484000   \n",
       "\n",
       "          elo_prob1        score1        score2       result1  \n",
       "count  16274.000000  16274.000000  16274.000000  16274.000000  \n",
       "mean       0.584829     21.544058     18.578161      0.580681  \n",
       "std        0.175302     11.289422     10.794566      0.488551  \n",
       "min        0.070953      0.000000      0.000000      0.000000  \n",
       "25%        0.461231     14.000000     10.000000      0.000000  \n",
       "50%        0.596354     21.000000     17.000000      1.000000  \n",
       "75%        0.719930     28.000000     26.000000      1.000000  \n",
       "max        0.970516     72.000000     73.000000      1.000000  "
      ]
     },
     "execution_count": 11,
     "metadata": {},
     "output_type": "execute_result"
    }
   ],
   "source": [
    "data.describe()"
   ]
  },
  {
   "cell_type": "code",
   "execution_count": 25,
   "metadata": {},
   "outputs": [
    {
     "name": "stdout",
     "output_type": "stream",
     "text": [
      "<class 'pandas.core.frame.DataFrame'>\n",
      "RangeIndex: 16274 entries, 0 to 16273\n",
      "Data columns (total 12 columns):\n",
      "date         16274 non-null object\n",
      "season       16274 non-null int64\n",
      "neutral      16274 non-null int64\n",
      "playoff      16274 non-null int64\n",
      "team1        16274 non-null object\n",
      "team2        16274 non-null object\n",
      "elo1         16274 non-null float64\n",
      "elo2         16274 non-null float64\n",
      "elo_prob1    16274 non-null float64\n",
      "score1       16274 non-null int64\n",
      "score2       16274 non-null int64\n",
      "result1      16274 non-null float64\n",
      "dtypes: float64(4), int64(5), object(3)\n",
      "memory usage: 1.5+ MB\n"
     ]
    }
   ],
   "source": [
    "data.info()"
   ]
  },
  {
   "cell_type": "code",
   "execution_count": 12,
   "metadata": {},
   "outputs": [
    {
     "data": {
      "text/plain": [
       "date         0\n",
       "season       0\n",
       "neutral      0\n",
       "playoff      0\n",
       "team1        0\n",
       "team2        0\n",
       "elo1         0\n",
       "elo2         0\n",
       "elo_prob1    0\n",
       "score1       0\n",
       "score2       0\n",
       "result1      0\n",
       "dtype: int64"
      ]
     },
     "execution_count": 12,
     "metadata": {},
     "output_type": "execute_result"
    }
   ],
   "source": [
    "data.isnull().sum()"
   ]
  },
  {
   "cell_type": "code",
   "execution_count": 16,
   "metadata": {},
   "outputs": [
    {
     "data": {
      "text/plain": [
       "CHI    736\n",
       "NYG    709\n",
       "GB     705\n",
       "ARI    664\n",
       "DET    643\n",
       "WSH    641\n",
       "PIT    631\n",
       "PHI    625\n",
       "LAR    593\n",
       "SF     572\n",
       "CLE    531\n",
       "IND    510\n",
       "DAL    483\n",
       "NE     483\n",
       "DEN    478\n",
       "OAK    476\n",
       "MIN    466\n",
       "BUF    465\n",
       "LAC    464\n",
       "KC     461\n",
       "Name: team1, dtype: int64"
      ]
     },
     "execution_count": 16,
     "metadata": {},
     "output_type": "execute_result"
    }
   ],
   "source": [
    "#Show numbers of games played by each team\n",
    "gameplayed=data['team1'].value_counts()\n",
    "gameplayed.head(20)\n"
   ]
  },
  {
   "cell_type": "code",
   "execution_count": 23,
   "metadata": {},
   "outputs": [
    {
     "data": {
      "text/plain": [
       "101"
      ]
     },
     "execution_count": 23,
     "metadata": {},
     "output_type": "execute_result"
    }
   ],
   "source": [
    "len(gameplayed)"
   ]
  },
  {
   "cell_type": "code",
   "execution_count": 24,
   "metadata": {},
   "outputs": [
    {
     "data": {
      "text/plain": [
       "<matplotlib.axes._subplots.AxesSubplot at 0x18b16dc61d0>"
      ]
     },
     "execution_count": 24,
     "metadata": {},
     "output_type": "execute_result"
    },
    {
     "data": {
      "image/png": "[encoded data removed]",
      "text/plain": [
       "<Figure size 1800x1440 with 1 Axes>"
      ]
     },
     "metadata": {},
     "output_type": "display_data"
    }
   ],
   "source": [
    "import matplotlib.pyplot as plt\n",
    "import seaborn as sns\n",
    "plt.style.use('ggplot')\n",
    "gameplayed.plot(kind='bar', figsize=(25,20))"
   ]
  },
  {
   "cell_type": "code",
   "execution_count": 27,
   "metadata": {},
   "outputs": [
    {
     "data": {
      "text/html": [
       "<div>\n",
       "<style scoped>\n",
       "    .dataframe tbody tr th:only-of-type {\n",
       "        vertical-align: middle;\n",
       "    }\n",
       "\n",
       "    .dataframe tbody tr th {\n",
       "        vertical-align: top;\n",
       "    }\n",
       "\n",
       "    .dataframe thead th {\n",
       "        text-align: right;\n",
       "    }\n",
       "</style>\n",
       "<table border=\"1\" class=\"dataframe\">\n",
       "  <thead>\n",
       "    <tr style=\"text-align: right;\">\n",
       "      <th></th>\n",
       "      <th>team1</th>\n",
       "      <th>team2</th>\n",
       "      <th>elo1</th>\n",
       "      <th>elo2</th>\n",
       "      <th>elo_prob1</th>\n",
       "      <th>score1</th>\n",
       "      <th>score2</th>\n",
       "      <th>result1</th>\n",
       "    </tr>\n",
       "  </thead>\n",
       "  <tbody>\n",
       "    <tr>\n",
       "      <td>0</td>\n",
       "      <td>RII</td>\n",
       "      <td>STP</td>\n",
       "      <td>1503.947</td>\n",
       "      <td>1300.000</td>\n",
       "      <td>0.824651</td>\n",
       "      <td>48</td>\n",
       "      <td>0</td>\n",
       "      <td>1.0</td>\n",
       "    </tr>\n",
       "    <tr>\n",
       "      <td>1</td>\n",
       "      <td>AKR</td>\n",
       "      <td>WHE</td>\n",
       "      <td>1503.420</td>\n",
       "      <td>1300.000</td>\n",
       "      <td>0.824212</td>\n",
       "      <td>43</td>\n",
       "      <td>0</td>\n",
       "      <td>1.0</td>\n",
       "    </tr>\n",
       "    <tr>\n",
       "      <td>2</td>\n",
       "      <td>RCH</td>\n",
       "      <td>ABU</td>\n",
       "      <td>1503.420</td>\n",
       "      <td>1300.000</td>\n",
       "      <td>0.824212</td>\n",
       "      <td>10</td>\n",
       "      <td>0</td>\n",
       "      <td>1.0</td>\n",
       "    </tr>\n",
       "    <tr>\n",
       "      <td>3</td>\n",
       "      <td>DAY</td>\n",
       "      <td>COL</td>\n",
       "      <td>1493.002</td>\n",
       "      <td>1504.908</td>\n",
       "      <td>0.575819</td>\n",
       "      <td>14</td>\n",
       "      <td>0</td>\n",
       "      <td>1.0</td>\n",
       "    </tr>\n",
       "    <tr>\n",
       "      <td>4</td>\n",
       "      <td>RII</td>\n",
       "      <td>MUN</td>\n",
       "      <td>1516.108</td>\n",
       "      <td>1478.004</td>\n",
       "      <td>0.644171</td>\n",
       "      <td>45</td>\n",
       "      <td>0</td>\n",
       "      <td>1.0</td>\n",
       "    </tr>\n",
       "  </tbody>\n",
       "</table>\n",
       "</div>"
      ],
      "text/plain": [
       "  team1 team2      elo1      elo2  elo_prob1  score1  score2  result1\n",
       "0   RII   STP  1503.947  1300.000   0.824651      48       0      1.0\n",
       "1   AKR   WHE  1503.420  1300.000   0.824212      43       0      1.0\n",
       "2   RCH   ABU  1503.420  1300.000   0.824212      10       0      1.0\n",
       "3   DAY   COL  1493.002  1504.908   0.575819      14       0      1.0\n",
       "4   RII   MUN  1516.108  1478.004   0.644171      45       0      1.0"
      ]
     },
     "execution_count": 27,
     "metadata": {},
     "output_type": "execute_result"
    }
   ],
   "source": [
    "nfl=data.drop(['date','season','neutral','playoff'], axis=1)\n",
    "nfl.head()"
   ]
  },
  {
   "cell_type": "code",
   "execution_count": 49,
   "metadata": {},
   "outputs": [
    {
     "data": {
      "text/html": [
       "<div>\n",
       "<style scoped>\n",
       "    .dataframe tbody tr th:only-of-type {\n",
       "        vertical-align: middle;\n",
       "    }\n",
       "\n",
       "    .dataframe tbody tr th {\n",
       "        vertical-align: top;\n",
       "    }\n",
       "\n",
       "    .dataframe thead th {\n",
       "        text-align: right;\n",
       "    }\n",
       "</style>\n",
       "<table border=\"1\" class=\"dataframe\">\n",
       "  <thead>\n",
       "    <tr style=\"text-align: right;\">\n",
       "      <th></th>\n",
       "      <th>team1</th>\n",
       "      <th>team2</th>\n",
       "      <th>elo1</th>\n",
       "      <th>elo2</th>\n",
       "      <th>elo_prob1</th>\n",
       "      <th>score1</th>\n",
       "      <th>score2</th>\n",
       "      <th>result1</th>\n",
       "    </tr>\n",
       "  </thead>\n",
       "  <tbody>\n",
       "    <tr>\n",
       "      <td>7</td>\n",
       "      <td>BFF</td>\n",
       "      <td>WBU</td>\n",
       "      <td>1478.004</td>\n",
       "      <td>1300.000</td>\n",
       "      <td>0.802000</td>\n",
       "      <td>32</td>\n",
       "      <td>6</td>\n",
       "      <td>1.0</td>\n",
       "    </tr>\n",
       "    <tr>\n",
       "      <td>10</td>\n",
       "      <td>DHR</td>\n",
       "      <td>CLP</td>\n",
       "      <td>1499.667</td>\n",
       "      <td>1300.000</td>\n",
       "      <td>0.821060</td>\n",
       "      <td>40</td>\n",
       "      <td>14</td>\n",
       "      <td>1.0</td>\n",
       "    </tr>\n",
       "    <tr>\n",
       "      <td>16</td>\n",
       "      <td>CHI</td>\n",
       "      <td>KEW</td>\n",
       "      <td>1386.533</td>\n",
       "      <td>1300.000</td>\n",
       "      <td>0.705223</td>\n",
       "      <td>25</td>\n",
       "      <td>7</td>\n",
       "      <td>1.0</td>\n",
       "    </tr>\n",
       "    <tr>\n",
       "      <td>17</td>\n",
       "      <td>ARI</td>\n",
       "      <td>MUT</td>\n",
       "      <td>1487.625</td>\n",
       "      <td>1281.800</td>\n",
       "      <td>0.826209</td>\n",
       "      <td>33</td>\n",
       "      <td>3</td>\n",
       "      <td>1.0</td>\n",
       "    </tr>\n",
       "    <tr>\n",
       "      <td>18</td>\n",
       "      <td>RII</td>\n",
       "      <td>CHI</td>\n",
       "      <td>1559.405</td>\n",
       "      <td>1402.774</td>\n",
       "      <td>0.781736</td>\n",
       "      <td>0</td>\n",
       "      <td>7</td>\n",
       "      <td>0.0</td>\n",
       "    </tr>\n",
       "  </tbody>\n",
       "</table>\n",
       "</div>"
      ],
      "text/plain": [
       "   team1 team2      elo1      elo2  elo_prob1  score1  score2  result1\n",
       "7    BFF   WBU  1478.004  1300.000   0.802000      32       6      1.0\n",
       "10   DHR   CLP  1499.667  1300.000   0.821060      40      14      1.0\n",
       "16   CHI   KEW  1386.533  1300.000   0.705223      25       7      1.0\n",
       "17   ARI   MUT  1487.625  1281.800   0.826209      33       3      1.0\n",
       "18   RII   CHI  1559.405  1402.774   0.781736       0       7      0.0"
      ]
     },
     "execution_count": 49,
     "metadata": {},
     "output_type": "execute_result"
    }
   ],
   "source": [
    "score2_nonzero = nfl['score2'] != 0\n",
    "nflnz=nfl[score2_nonzero]\n",
    "nflnz.head()"
   ]
  },
  {
   "cell_type": "code",
   "execution_count": 51,
   "metadata": {},
   "outputs": [],
   "source": [
    "import warnings\n",
    "warnings.filterwarnings(\"ignore\")"
   ]
  },
  {
   "cell_type": "code",
   "execution_count": 52,
   "metadata": {},
   "outputs": [
    {
     "data": {
      "text/html": [
       "<div>\n",
       "<style scoped>\n",
       "    .dataframe tbody tr th:only-of-type {\n",
       "        vertical-align: middle;\n",
       "    }\n",
       "\n",
       "    .dataframe tbody tr th {\n",
       "        vertical-align: top;\n",
       "    }\n",
       "\n",
       "    .dataframe thead th {\n",
       "        text-align: right;\n",
       "    }\n",
       "</style>\n",
       "<table border=\"1\" class=\"dataframe\">\n",
       "  <thead>\n",
       "    <tr style=\"text-align: right;\">\n",
       "      <th></th>\n",
       "      <th>team1</th>\n",
       "      <th>team2</th>\n",
       "      <th>elo1</th>\n",
       "      <th>elo2</th>\n",
       "      <th>elo_prob1</th>\n",
       "      <th>score1</th>\n",
       "      <th>score2</th>\n",
       "      <th>result1</th>\n",
       "      <th>per1</th>\n",
       "      <th>per2</th>\n",
       "      <th>total</th>\n",
       "    </tr>\n",
       "  </thead>\n",
       "  <tbody>\n",
       "    <tr>\n",
       "      <td>7</td>\n",
       "      <td>BFF</td>\n",
       "      <td>WBU</td>\n",
       "      <td>1478.004</td>\n",
       "      <td>1300.000</td>\n",
       "      <td>0.802000</td>\n",
       "      <td>32</td>\n",
       "      <td>6</td>\n",
       "      <td>1.0</td>\n",
       "      <td>0.842105</td>\n",
       "      <td>0.157895</td>\n",
       "      <td>38</td>\n",
       "    </tr>\n",
       "    <tr>\n",
       "      <td>10</td>\n",
       "      <td>DHR</td>\n",
       "      <td>CLP</td>\n",
       "      <td>1499.667</td>\n",
       "      <td>1300.000</td>\n",
       "      <td>0.821060</td>\n",
       "      <td>40</td>\n",
       "      <td>14</td>\n",
       "      <td>1.0</td>\n",
       "      <td>0.740741</td>\n",
       "      <td>0.259259</td>\n",
       "      <td>54</td>\n",
       "    </tr>\n",
       "    <tr>\n",
       "      <td>16</td>\n",
       "      <td>CHI</td>\n",
       "      <td>KEW</td>\n",
       "      <td>1386.533</td>\n",
       "      <td>1300.000</td>\n",
       "      <td>0.705223</td>\n",
       "      <td>25</td>\n",
       "      <td>7</td>\n",
       "      <td>1.0</td>\n",
       "      <td>0.781250</td>\n",
       "      <td>0.218750</td>\n",
       "      <td>32</td>\n",
       "    </tr>\n",
       "    <tr>\n",
       "      <td>17</td>\n",
       "      <td>ARI</td>\n",
       "      <td>MUT</td>\n",
       "      <td>1487.625</td>\n",
       "      <td>1281.800</td>\n",
       "      <td>0.826209</td>\n",
       "      <td>33</td>\n",
       "      <td>3</td>\n",
       "      <td>1.0</td>\n",
       "      <td>0.916667</td>\n",
       "      <td>0.083333</td>\n",
       "      <td>36</td>\n",
       "    </tr>\n",
       "    <tr>\n",
       "      <td>18</td>\n",
       "      <td>RII</td>\n",
       "      <td>CHI</td>\n",
       "      <td>1559.405</td>\n",
       "      <td>1402.774</td>\n",
       "      <td>0.781736</td>\n",
       "      <td>0</td>\n",
       "      <td>7</td>\n",
       "      <td>0.0</td>\n",
       "      <td>0.000000</td>\n",
       "      <td>1.000000</td>\n",
       "      <td>7</td>\n",
       "    </tr>\n",
       "  </tbody>\n",
       "</table>\n",
       "</div>"
      ],
      "text/plain": [
       "   team1 team2      elo1      elo2  elo_prob1  score1  score2  result1  \\\n",
       "7    BFF   WBU  1478.004  1300.000   0.802000      32       6      1.0   \n",
       "10   DHR   CLP  1499.667  1300.000   0.821060      40      14      1.0   \n",
       "16   CHI   KEW  1386.533  1300.000   0.705223      25       7      1.0   \n",
       "17   ARI   MUT  1487.625  1281.800   0.826209      33       3      1.0   \n",
       "18   RII   CHI  1559.405  1402.774   0.781736       0       7      0.0   \n",
       "\n",
       "        per1      per2  total  \n",
       "7   0.842105  0.157895     38  \n",
       "10  0.740741  0.259259     54  \n",
       "16  0.781250  0.218750     32  \n",
       "17  0.916667  0.083333     36  \n",
       "18  0.000000  1.000000      7  "
      ]
     },
     "execution_count": 52,
     "metadata": {},
     "output_type": "execute_result"
    }
   ],
   "source": [
    "per1 = []\n",
    "per2 = []\n",
    "total = []\n",
    "\n",
    "for i,x in nflnz.iterrows():\n",
    "    per1.append(x['score1']/(x['score1'] + x['score2']))\n",
    "    per2.append(x['score2']/(x['score1'] + x['score2']))\n",
    "    total.append(x['score1'] + x['score2'])\n",
    "    \n",
    "\n",
    "nflnz['total'] = pd.DataFrame(total, index=nflnz.index)\n",
    "nflnz['per1'] = pd.DataFrame(per1, index=nflnz.index)\n",
    "nflnz['per2'] = pd.DataFrame(per2, index=nflnz.index)\n",
    "\n",
    "\n",
    "nflnz.head()"
   ]
  },
  {
   "cell_type": "markdown",
   "metadata": {},
   "source": [
    "## Linear Regression"
   ]
  },
  {
   "cell_type": "code",
   "execution_count": 103,
   "metadata": {},
   "outputs": [],
   "source": [
    "X_train=nflnz.sample(frac=0.8,random_state=0)\n",
    "X_test=nflnz.drop(X_train.index)\n",
    "\n",
    "#Selecting only numeric features from the dataframe\n",
    "fit_features = ['elo1','elo2','elo_prob1','score2','total']\n",
    "x_train = X_train[fit_features]\n",
    "y_train = X_train['score1']"
   ]
  },
  {
   "cell_type": "code",
   "execution_count": 104,
   "metadata": {},
   "outputs": [],
   "source": [
    "x_test = X_test[fit_features]\n",
    "y_test = X_test['score1']"
   ]
  },
  {
   "cell_type": "code",
   "execution_count": 105,
   "metadata": {},
   "outputs": [
    {
     "data": {
      "text/plain": [
       "LinearRegression(copy_X=True, fit_intercept=True, n_jobs=None, normalize=False)"
      ]
     },
     "execution_count": 105,
     "metadata": {},
     "output_type": "execute_result"
    }
   ],
   "source": [
    "from sklearn.linear_model import LinearRegression\n",
    "linreg = LinearRegression()\n",
    "\n",
    "linreg.fit(x_train ,y_train)"
   ]
  },
  {
   "cell_type": "code",
   "execution_count": 106,
   "metadata": {},
   "outputs": [
    {
     "name": "stdout",
     "output_type": "stream",
     "text": [
      "[ 1.70296330e-16 -5.95193812e-17 -1.03829952e-13 -1.00000000e+00\n",
      "  1.00000000e+00]\n",
      "-7.460698725481052e-14\n"
     ]
    }
   ],
   "source": [
    "print(linreg.coef_)\n",
    "print(linreg.intercept_)"
   ]
  },
  {
   "cell_type": "code",
   "execution_count": 107,
   "metadata": {},
   "outputs": [
    {
     "data": {
      "text/plain": [
       "1.0"
      ]
     },
     "execution_count": 107,
     "metadata": {},
     "output_type": "execute_result"
    }
   ],
   "source": [
    "linreg.score(x_train,y_train)"
   ]
  },
  {
   "cell_type": "code",
   "execution_count": 108,
   "metadata": {},
   "outputs": [
    {
     "name": "stdout",
     "output_type": "stream",
     "text": [
      "train error: 2.3082300121550185e-28\n",
      "test error: 2.3144348829286367e-28\n"
     ]
    }
   ],
   "source": [
    "reg_pred_train = linreg.predict(x_train)\n",
    "reg_pred_test = linreg.predict(x_test)\n",
    "\n",
    "from sklearn.metrics import mean_squared_error\n",
    "print(\"train error: \" + str(mean_squared_error(y_train, reg_pred_train)))\n",
    "print(\"test error: \" + str(mean_squared_error(y_test, reg_pred_test)))"
   ]
  },
  {
   "cell_type": "code",
   "execution_count": 110,
   "metadata": {},
   "outputs": [
    {
     "data": {
      "image/png": "[encoded data removed]",
      "text/plain": [
       "<Figure size 432x288 with 1 Axes>"
      ]
     },
     "metadata": {},
     "output_type": "display_data"
    }
   ],
   "source": [
    "x = [i+1 for i in range(200)]\n",
    "plt.plot(x, y_test[0:200], c='blue', label='True')\n",
    "plt.plot(x, reg_pred_test[0:200], c='yellow', label='Predict')\n",
    "plt.legend()\n",
    "plt.show()"
   ]
  },
  {
   "cell_type": "markdown",
   "metadata": {},
   "source": [
    "## Linear SVM regression"
   ]
  },
  {
   "cell_type": "code",
   "execution_count": 113,
   "metadata": {},
   "outputs": [
    {
     "data": {
      "text/plain": [
       "LinearSVR(C=0.5, dual=True, epsilon=0.0, fit_intercept=True,\n",
       "          intercept_scaling=1.0, loss='squared_epsilon_insensitive',\n",
       "          max_iter=1000, random_state=None, tol=0.0001, verbose=0)"
      ]
     },
     "execution_count": 113,
     "metadata": {},
     "output_type": "execute_result"
    }
   ],
   "source": [
    "from sklearn.svm import LinearSVR, SVR\n",
    "\n",
    "lin_svm_reg = LinearSVR(C=0.5,loss='squared_epsilon_insensitive')\n",
    "lin_svm_reg.fit(x_train,y_train)"
   ]
  },
  {
   "cell_type": "code",
   "execution_count": 115,
   "metadata": {},
   "outputs": [
    {
     "name": "stdout",
     "output_type": "stream",
     "text": [
      "[ 2.59192028e-06 -2.55814342e-06  1.09015940e-04 -9.99879723e-01\n",
      "  9.99933625e-01]\n",
      "[0.00017338]\n",
      "train error: 7.106818876340707e-07\n",
      "test error:  6.842269238044683e-07\n"
     ]
    }
   ],
   "source": [
    "print(lin_svm_reg.coef_)\n",
    "print(lin_svm_reg.intercept_)\n",
    "\n",
    "SVM_pred_train=lin_svm_reg.predict(x_train)\n",
    "SVM_pred_test=lin_svm_reg.predict(x_test)\n",
    "\n",
    "print(\"train error: \" + str(mean_squared_error(y_train, SVM_pred_train)))\n",
    "print(\"test error:  \" + str(mean_squared_error(y_test, SVM_pred_test)))"
   ]
  },
  {
   "cell_type": "code",
   "execution_count": 116,
   "metadata": {},
   "outputs": [
    {
     "data": {
      "text/plain": [
       "0.9999999942515194"
      ]
     },
     "execution_count": 116,
     "metadata": {},
     "output_type": "execute_result"
    }
   ],
   "source": [
    "lin_svm_reg.score(x_train,y_train)"
   ]
  },
  {
   "cell_type": "code",
   "execution_count": 117,
   "metadata": {},
   "outputs": [
    {
     "data": {
      "image/png": "[encoded data removed]",
      "text/plain": [
       "<Figure size 432x288 with 1 Axes>"
      ]
     },
     "metadata": {},
     "output_type": "display_data"
    }
   ],
   "source": [
    "x = [i+1 for i in range(200)]\n",
    "plt.plot(x, y_test[0:200], c='blue', label='True')\n",
    "plt.plot(x, SVM_pred_test[0:200], c='yellow', label='Predict')\n",
    "plt.legend()\n",
    "plt.show()"
   ]
  },
  {
   "cell_type": "markdown",
   "metadata": {},
   "source": [
    "## Neural Network"
   ]
  },
  {
   "cell_type": "code",
   "execution_count": 137,
   "metadata": {},
   "outputs": [
    {
     "name": "stdout",
     "output_type": "stream",
     "text": [
      "train error: 123.62953282674367\n",
      "test error:  125.15700434482213\n"
     ]
    }
   ],
   "source": [
    "from sklearn.neural_network import MLPRegressor\n",
    "\n",
    "# Set learning_rate as 0.2\n",
    "NN = MLPRegressor(learning_rate='adaptive', learning_rate_init=0.2)\n",
    "NN.fit(x_train, y_train)\n",
    "\n",
    "NN_pred_train = NN.predict(x_train)\n",
    "NN_pred_test = NN.predict(x_test)\n",
    "\n",
    "print(\"train error: \" + str(mean_squared_error(y_train, NN_pred_train)))\n",
    "print(\"test error:  \" + str(mean_squared_error(y_test, NN_pred_test)))"
   ]
  },
  {
   "cell_type": "code",
   "execution_count": 138,
   "metadata": {},
   "outputs": [
    {
     "data": {
      "text/plain": [
       "-1.0596422495012803e-07"
      ]
     },
     "execution_count": 138,
     "metadata": {},
     "output_type": "execute_result"
    }
   ],
   "source": [
    "NN.score(x_train,y_train)"
   ]
  },
  {
   "cell_type": "code",
   "execution_count": 139,
   "metadata": {},
   "outputs": [
    {
     "data": {
      "image/png": "[encoded data removed]",
      "text/plain": [
       "<Figure size 432x288 with 1 Axes>"
      ]
     },
     "metadata": {},
     "output_type": "display_data"
    }
   ],
   "source": [
    "x = [i+1 for i in range(200)]\n",
    "plt.plot(x, y_test[0:200], c='blue', label='True')\n",
    "plt.plot(x, NN_pred_test[0:200], c='yellow', label='Predict')\n",
    "plt.legend()\n",
    "plt.show()"
   ]
  },
  {
   "cell_type": "code",
   "execution_count": 140,
   "metadata": {},
   "outputs": [
    {
     "name": "stdout",
     "output_type": "stream",
     "text": [
      "train error: 0.00027159294022965804\n",
      "test error:  0.0002713062947378421\n"
     ]
    }
   ],
   "source": [
    "# Changing learning_rate to 0.1\n",
    "NN1 = MLPRegressor(learning_rate='adaptive', learning_rate_init=0.1)\n",
    "NN1.fit(x_train, y_train)\n",
    "\n",
    "NN1_pred_train = NN1.predict(x_train)\n",
    "NN1_pred_test = NN1.predict(x_test)\n",
    "print(\"train error: \" + str(mean_squared_error(y_train, NN1_pred_train)))\n",
    "print(\"test error:  \" + str(mean_squared_error(y_test, NN1_pred_test)))"
   ]
  },
  {
   "cell_type": "code",
   "execution_count": 141,
   "metadata": {},
   "outputs": [
    {
     "data": {
      "text/plain": [
       "0.9999978031707893"
      ]
     },
     "execution_count": 141,
     "metadata": {},
     "output_type": "execute_result"
    }
   ],
   "source": [
    "NN1.score(x_train,y_train)"
   ]
  },
  {
   "cell_type": "code",
   "execution_count": 142,
   "metadata": {},
   "outputs": [
    {
     "data": {
      "image/png": "[encoded data removed]",
      "text/plain": [
       "<Figure size 432x288 with 1 Axes>"
      ]
     },
     "metadata": {},
     "output_type": "display_data"
    }
   ],
   "source": [
    "x = [i+1 for i in range(200)]\n",
    "plt.plot(x, y_test[0:200], c='blue', label='True')\n",
    "plt.plot(x, NN1_pred_test[0:200], c='yellow', label='Predict')\n",
    "plt.legend()\n",
    "plt.show()"
   ]
  },
  {
   "cell_type": "code",
   "execution_count": 143,
   "metadata": {},
   "outputs": [
    {
     "name": "stdout",
     "output_type": "stream",
     "text": [
      "[3.20285824e+01 7.07246829e-03 7.02663688e+00 7.03448502e+00\n",
      " 4.30137427e+01 3.00831779e-02 2.80167371e+01 9.17136353e-04\n",
      " 1.40279022e+01 7.01944841e+00 1.42637306e-02 3.53095545e-03\n",
      " 2.00251888e+01 1.07249929e-02 1.40105804e+01 2.14160106e-02\n",
      " 3.47745809e-02 8.44321556e-03 1.40189067e+01 9.70223590e-03]\n"
     ]
    }
   ],
   "source": [
    "print(NN1_pred_test[0:20])"
   ]
  },
  {
   "cell_type": "markdown",
   "metadata": {},
   "source": [
    "## Random Forest"
   ]
  },
  {
   "cell_type": "code",
   "execution_count": 144,
   "metadata": {},
   "outputs": [
    {
     "data": {
      "text/plain": [
       "RandomForestClassifier(bootstrap=True, class_weight=None, criterion='gini',\n",
       "                       max_depth=None, max_features='auto', max_leaf_nodes=None,\n",
       "                       min_impurity_decrease=0.0, min_impurity_split=None,\n",
       "                       min_samples_leaf=1, min_samples_split=2,\n",
       "                       min_weight_fraction_leaf=0.0, n_estimators=10,\n",
       "                       n_jobs=None, oob_score=False, random_state=None,\n",
       "                       verbose=0, warm_start=False)"
      ]
     },
     "execution_count": 144,
     "metadata": {},
     "output_type": "execute_result"
    }
   ],
   "source": [
    "from sklearn.ensemble import RandomForestClassifier\n",
    "from sklearn.metrics import make_scorer, accuracy_score\n",
    "from sklearn.model_selection import GridSearchCV\n",
    "from sklearn.multioutput import MultiOutputClassifier\n",
    "\n",
    "clfr = RandomForestClassifier()\n",
    "\n",
    "clfr.fit(x_train, y_train)"
   ]
  },
  {
   "cell_type": "code",
   "execution_count": 148,
   "metadata": {},
   "outputs": [
    {
     "name": "stdout",
     "output_type": "stream",
     "text": [
      "accuracy score of team 1\n",
      "0.6659046374918354\n"
     ]
    }
   ],
   "source": [
    "x_test = X_test[fit_features]\n",
    "y_test = X_test['score1']\n",
    "print ('accuracy score of team 1')\n",
    "print(accuracy_score(y_test, clfr.predict(x_test)))"
   ]
  },
  {
   "cell_type": "code",
   "execution_count": 147,
   "metadata": {},
   "outputs": [
    {
     "name": "stdout",
     "output_type": "stream",
     "text": [
      "Mean squared error: 3.85\n"
     ]
    }
   ],
   "source": [
    "Y = clfr.predict(x_test)\n",
    "# Calculating mean squared error\n",
    "print(\"Mean squared error: %.2f\" % mean_squared_error(y_test, Y))"
   ]
  },
  {
   "cell_type": "code",
   "execution_count": 149,
   "metadata": {},
   "outputs": [
    {
     "data": {
      "image/png": "[encoded data removed]",
      "text/plain": [
       "<Figure size 432x288 with 1 Axes>"
      ]
     },
     "metadata": {},
     "output_type": "display_data"
    }
   ],
   "source": [
    "x = [i+1 for i in range(200)]\n",
    "plt.plot(x, y_test[0:200], c='blue', label='True')\n",
    "plt.plot(x, Y[0:200], c='yellow', label='Predict')\n",
    "plt.legend()\n",
    "plt.show()"
   ]
  }
 ],
 "metadata": {
  "kernelspec": {
   "display_name": "Python 3",
   "language": "python",
   "name": "python3"
  },
  "language_info": {
   "codemirror_mode": {
    "name": "ipython",
    "version": 3
   },
   "file_extension": ".py",
   "mimetype": "text/x-python",
   "name": "python",
   "nbconvert_exporter": "python",
   "pygments_lexer": "ipython3",
   "version": "3.7.1"
  }
 },
 "nbformat": 4,
 "nbformat_minor": 2
}
